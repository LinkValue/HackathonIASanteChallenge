{
 "cells": [
  {
   "cell_type": "code",
   "execution_count": 29,
   "metadata": {
    "collapsed": true
   },
   "outputs": [],
   "source": [
    "import pandas as pd\n",
    "from sklearn.metrics import average_precision_score, precision_score, recall_score\n",
    "import os"
   ]
  },
  {
   "cell_type": "code",
   "execution_count": 38,
   "metadata": {
    "collapsed": false
   },
   "outputs": [],
   "source": [
    "def givemeresults(time):\n",
    "    if not os.path.isfile('data/inception_%d.csv' % time):\n",
    "        os.system(\"sshpass -p 'Link75Value017' scp linkvalue@13.65.253.6:/sharedfiles/outputs/results/inception_%d.csv data/\" % time)\n",
    "    labels = {'benign' : 0., 'malignant' : 1.}\n",
    "    preds = pd.read_csv('data/inception_%d.csv' % time).sort_values('name').set_index('name')\n",
    "    print preds.head()\n",
    "    gt = pd.read_csv('data/label_learn.csv', sep=';', converters={'label' : lambda x : labels[x]}).set_index('name')\n",
    "    preds['y_true'] = gt['label'].loc[preds.index]\n",
    "\n",
    "    print preds.head()\n",
    "\n",
    "    print 'ap', average_precision_score(preds['y_true'], preds['risk'])\n",
    "    print 'prec', precision_score(preds['y_true'], preds['risk']>0.5)\n",
    "    print 'recall', recall_score(preds['y_true'], preds['risk']>0.5)"
   ]
  },
  {
   "cell_type": "code",
   "execution_count": 33,
   "metadata": {
    "collapsed": false
   },
   "outputs": [
    {
     "name": "stdout",
     "output_type": "stream",
     "text": [
      "                 risk  y_true\n",
      "name                         \n",
      "0000019.jpg  0.230591     0.0\n",
      "0000028.jpg  0.015067     0.0\n",
      "0000035.jpg  0.507147     1.0\n",
      "0000036.jpg  0.991339     1.0\n",
      "0000060.jpg  0.014295     0.0\n",
      "ap 0.957740045589\n",
      "prec 0.907142857143\n",
      "recall 0.933823529412\n"
     ]
    }
   ],
   "source": [
    "givemeresults(1511563817)"
   ]
  },
  {
   "cell_type": "code",
   "execution_count": 34,
   "metadata": {
    "collapsed": false
   },
   "outputs": [
    {
     "name": "stdout",
     "output_type": "stream",
     "text": [
      "                 risk  y_true\n",
      "name                         \n",
      "0000019.jpg  0.056078     0.0\n",
      "0000028.jpg  0.407339     0.0\n",
      "0000035.jpg  0.678156     1.0\n",
      "0000036.jpg  0.807661     1.0\n",
      "0000060.jpg  0.196211     0.0\n",
      "ap 0.502858953064\n",
      "prec 0.519083969466\n",
      "recall 0.5\n"
     ]
    }
   ],
   "source": [
    "givemeresults(1511568370)"
   ]
  },
  {
   "cell_type": "code",
   "execution_count": 35,
   "metadata": {
    "collapsed": false
   },
   "outputs": [
    {
     "name": "stdout",
     "output_type": "stream",
     "text": [
      "                 risk  y_true\n",
      "name                         \n",
      "0000019.jpg  0.051747     0.0\n",
      "0000028.jpg  0.010442     0.0\n",
      "0000035.jpg  0.681468     1.0\n",
      "0000036.jpg  0.877660     1.0\n",
      "0000060.jpg  0.038152     0.0\n",
      "ap 0.563368232361\n",
      "prec 0.559701492537\n",
      "recall 0.551470588235\n"
     ]
    }
   ],
   "source": [
    "givemeresults(1511570877)"
   ]
  },
  {
   "cell_type": "code",
   "execution_count": 40,
   "metadata": {
    "collapsed": false
   },
   "outputs": [
    {
     "name": "stdout",
     "output_type": "stream",
     "text": [
      "                 risk\n",
      "name                 \n",
      "0000019.jpg  0.034336\n",
      "0000028.jpg  0.001636\n",
      "0000035.jpg  0.699337\n",
      "0000036.jpg  0.830034\n",
      "0000060.jpg  0.012513\n",
      "                 risk  y_true\n",
      "name                         \n",
      "0000019.jpg  0.034336     0.0\n",
      "0000028.jpg  0.001636     0.0\n",
      "0000035.jpg  0.699337     1.0\n",
      "0000036.jpg  0.830034     1.0\n",
      "0000060.jpg  0.012513     0.0\n",
      "ap 0.556609906915\n",
      "prec 0.595041322314\n",
      "recall 0.529411764706\n"
     ]
    }
   ],
   "source": [
    "givemeresults(1511574060)"
   ]
  },
  {
   "cell_type": "code",
   "execution_count": null,
   "metadata": {
    "collapsed": true
   },
   "outputs": [],
   "source": []
  }
 ],
 "metadata": {
  "kernelspec": {
   "display_name": "Python 2",
   "language": "python",
   "name": "python2"
  },
  "language_info": {
   "codemirror_mode": {
    "name": "ipython",
    "version": 2
   },
   "file_extension": ".py",
   "mimetype": "text/x-python",
   "name": "python",
   "nbconvert_exporter": "python",
   "pygments_lexer": "ipython2",
   "version": "2.7.6"
  }
 },
 "nbformat": 4,
 "nbformat_minor": 2
}
